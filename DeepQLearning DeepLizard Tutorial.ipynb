{
 "cells": [
  {
   "cell_type": "code",
   "execution_count": 1,
   "metadata": {},
   "outputs": [],
   "source": [
    "import numpy as np\n",
    "import gym\n",
    "import random\n",
    "import time\n",
    "from IPython.display import clear_output\n",
    "import torch\n",
    "from torch.autograd import Variable\n",
    "from torch import nn\n",
    "import torch.optim as optim\n",
    "import torch.nn.functional as F\n",
    "import torchvision.transforms as T"
   ]
  },
  {
   "cell_type": "code",
   "execution_count": 2,
   "metadata": {},
   "outputs": [],
   "source": [
    "env = gym.make(\"FrozenLake-v0\")"
   ]
  },
  {
   "cell_type": "code",
   "execution_count": 3,
   "metadata": {},
   "outputs": [
    {
     "name": "stdout",
     "output_type": "stream",
     "text": [
      "16 4\n"
     ]
    }
   ],
   "source": [
    "action_space_size =  env.action_space.n\n",
    "state_space_size = env.observation_space.n\n",
    "\n",
    "print(state_space_size,action_space_size)"
   ]
  },
  {
   "cell_type": "code",
   "execution_count": 4,
   "metadata": {},
   "outputs": [],
   "source": [
    "class ReplayMemory:\n",
    "    #rotating buffer of size N\n",
    "    def __init__(self,N):\n",
    "        self.memory = []\n",
    "        self.size = N\n",
    "    \n",
    "    def add(self,experience):\n",
    "        self.memory.append(experience)\n",
    "        if(len(self.memory) > self.size):\n",
    "            del self.memory[0]\n",
    "\n",
    "#Define what our experience looks like\n",
    "#[state,action,reward,next_state]"
   ]
  },
  {
   "cell_type": "code",
   "execution_count": 5,
   "metadata": {},
   "outputs": [],
   "source": [
    "discount = .99 #as is said in the paper\n",
    "\n",
    "class QNetwork(torch.nn.Module):\n",
    "    def __init__(self,input_dimension,output_dimension,trainable=True):\n",
    "        \n",
    "        super(QNetwork, self).__init__()\n",
    "        \n",
    "        self.input_weights = nn.Linear(input_dimension,128)\n",
    "        self.hidden = nn.Linear(128,32)\n",
    "        self.output = nn.Linear(32,output_dimension)\n",
    "        \n",
    "    def forward(self,x):\n",
    "        x = x.float()\n",
    "        y_pred = F.relu(self.input_weights(x))\n",
    "        y_pred = F.relu(self.hidden(y_pred))\n",
    "        y_pred = F.softmax(self.output(y_pred))\n",
    "        return y_pred\n",
    "        \n",
    "\n",
    "class Learner:\n",
    "    def __init__(self,N):\n",
    "        self.replay = ReplayMemory(N)\n",
    "        self.QNetwork = QNetwork(16,4)\n",
    "        self.TargetNetwork = QNetwork(16,4)\n",
    "        \n",
    "        self.optimizer = optim.RMSprop(self.QNetwork.parameters())\n",
    "    \n",
    "    def run_model(self,x):\n",
    "        #x = np.array(x)\n",
    "        x = torch.from_numpy(x)\n",
    "        y_pred = self.QNetwork.forward(x)\n",
    "        return y_pred\n",
    "    \n",
    "    def run_target_model(self,x):\n",
    "        #x = np.array(x)\n",
    "        x = torch.from_numpy(x)\n",
    "        y_pred = self.TargetNetwork.forward(x)\n",
    "        return y_pred\n",
    "    \n",
    "    \n",
    "    def target_network_update(self):\n",
    "        self.TargetNetwork.load_state_dict(self.QNetwork.state_dict())\n",
    "    \n",
    "    def to_onehot(self,state):\n",
    "        state = int(state)\n",
    "        #onehot the 16 states\n",
    "        output = np.zeros(16)\n",
    "        output[state]=1\n",
    "        return output\n",
    "    \n",
    "    def experience_replay(self):\n",
    "        # look at the replay randomly and train it with\n",
    "        # the loss function\n",
    "        # from the paper\n",
    "        \n",
    "        #lets start by taking random frames and we will upgrade\n",
    "        # this to be minibatches soon\n",
    "        memory = np.array(self.replay.memory)\n",
    "        #randomize the memory \n",
    "        np.random.shuffle(memory)\n",
    "        for i in range(len(memory)):\n",
    "            #print(memory[i])\n",
    "            experience = memory[i]\n",
    "            \n",
    "            state,reward,action,next_state = experience\n",
    "            \n",
    "            state = self.to_onehot(state)\n",
    "            next_state = self.to_onehot(next_state)\n",
    "            reward = int(reward)\n",
    "            action = int(action)\n",
    "            \n",
    "            #print(max(self.run_model(state)))\n",
    "            loss = reward + discount*max(self.run_model(next_state))\n",
    "            loss = loss - self.run_model(state)[action]\n",
    "            loss = -(loss**2)\n",
    "            self.optimizer.zero_grad()\n",
    "            loss.backward()"
   ]
  },
  {
   "cell_type": "markdown",
   "metadata": {},
   "source": [
    "Loss function for each of our experiences\n",
    "Q is our desision function that is aproximated from our neural\n",
    "network"
   ]
  },
  {
   "cell_type": "markdown",
   "metadata": {},
   "source": [
    "<img src='DQN_Loss.png'>"
   ]
  },
  {
   "cell_type": "code",
   "execution_count": 6,
   "metadata": {},
   "outputs": [],
   "source": [
    "num_episodes = 2500\n",
    "max_steps_per_episode = 100\n",
    "\n",
    "learning_rate = 0.1\n",
    "\n",
    "exploration_rate = 1\n",
    "max_exploration_rate = 1\n",
    "min_exploration_rate = 0.01\n",
    "exploration_decay_rate = 0.001"
   ]
  },
  {
   "cell_type": "code",
   "execution_count": 7,
   "metadata": {
    "scrolled": true
   },
   "outputs": [
    {
     "name": "stderr",
     "output_type": "stream",
     "text": [
      "/usr/local/lib/python3.6/dist-packages/ipykernel_launcher.py:16: UserWarning: Implicit dimension choice for softmax has been deprecated. Change the call to include dim=X as an argument.\n",
      "  app.launch_new_instance()\n"
     ]
    }
   ],
   "source": [
    "learner = Learner(1000)\n",
    "experience_update_rate = 100\n",
    "target_network_update_rate = 500\n",
    "reward_all_episodes =[]\n",
    "\n",
    "for episode in range(num_episodes):\n",
    "    \n",
    "    state = env.reset()\n",
    "    done = False\n",
    "    rewards_current_episode = 0\n",
    "    \n",
    "    for step in range(max_steps_per_episode):\n",
    "        #env.render()\n",
    "        #clear_output()\n",
    "        \n",
    "        # Exploration-exploitation trade-off\n",
    "        uniform_random_variable= random.uniform(0,1)\n",
    "        if(uniform_random_variable > exploration_rate):\n",
    "            #if we are exploiting,\n",
    "            #we use the action that has the highest \n",
    "            #value in our q_table at that state\n",
    "            state_onehot = learner.to_onehot(state)\n",
    "            action = learner.run_model(state_onehot).max(0)[1]\n",
    "            action = int(action)\n",
    "            #print(action)\n",
    "            \n",
    "        else:\n",
    "            #other wise explore randomly\n",
    "            action = env.action_space.sample()\n",
    "            \n",
    "        new_state, reward, done, info = env.step(action)\n",
    "        \n",
    "        rewards_current_episode+=reward\n",
    "        \n",
    "        \n",
    "        \n",
    "        experience = [state,rewards_current_episode,action,new_state]\n",
    "        learner.replay.add(experience)\n",
    "        state= new_state\n",
    "        \n",
    "        \n",
    "        if(done):\n",
    "            break\n",
    "            \n",
    "    #Decay the exploration rate after each loop\n",
    "    exploration_rate = min_exploration_rate + \\\n",
    "        (max_exploration_rate - min_exploration_rate) * np.exp(-exploration_decay_rate*episode)\n",
    "    reward_all_episodes.append(rewards_current_episode)\n",
    "    \n",
    "    if(episode % experience_update_rate==0):\n",
    "        #print(episode)\n",
    "        #update based on replay memory\n",
    "        learner.experience_replay()\n",
    "    if(episode % target_network_update_rate == 0):\n",
    "        learner.target_network_update()"
   ]
  },
  {
   "cell_type": "code",
   "execution_count": 9,
   "metadata": {},
   "outputs": [
    {
     "name": "stdout",
     "output_type": "stream",
     "text": [
      "[0.006, 0.0]\n"
     ]
    }
   ],
   "source": [
    "import matplotlib.pyplot as plt\n",
    "#average every 1000 episodes\n",
    "average =  [sum(reward_all_episodes[1000*k:1000*(k+1)])/1000 for k in range(int(len(reward_all_episodes)/1000))]\n",
    "print(average)"
   ]
  },
  {
   "cell_type": "code",
   "execution_count": 10,
   "metadata": {},
   "outputs": [
    {
     "name": "stdout",
     "output_type": "stream",
     "text": [
      "Best 0.0\n"
     ]
    },
    {
     "data": {
      "image/png": "[encoded data removed]",
      "text/plain": [
       "<Figure size 432x288 with 1 Axes>"
      ]
     },
     "metadata": {},
     "output_type": "display_data"
    }
   ],
   "source": [
    "print(\"Best\", average[-1])\n",
    "plt.plot(average)\n",
    "plt.show()"
   ]
  },
  {
   "cell_type": "code",
   "execution_count": 11,
   "metadata": {},
   "outputs": [
    {
     "name": "stdout",
     "output_type": "stream",
     "text": [
      "  (Left)\n",
      "SFFF\n",
      "\u001b[41mF\u001b[0mHFH\n",
      "FFFH\n",
      "HFFG\n"
     ]
    },
    {
     "ename": "KeyboardInterrupt",
     "evalue": "",
     "output_type": "error",
     "traceback": [
      "\u001b[0;31m---------------------------------------------------------------------------\u001b[0m",
      "\u001b[0;31mKeyboardInterrupt\u001b[0m                         Traceback (most recent call last)",
      "\u001b[0;32m<ipython-input-11-c599a6535676>\u001b[0m in \u001b[0;36m<module>\u001b[0;34m()\u001b[0m\n\u001b[1;32m     17\u001b[0m         \u001b[0;32mif\u001b[0m\u001b[0;34m(\u001b[0m\u001b[0mdone\u001b[0m\u001b[0;34m)\u001b[0m\u001b[0;34m:\u001b[0m\u001b[0;34m\u001b[0m\u001b[0m\n\u001b[1;32m     18\u001b[0m             \u001b[0;32mbreak\u001b[0m\u001b[0;34m\u001b[0m\u001b[0m\n\u001b[0;32m---> 19\u001b[0;31m         \u001b[0mtime\u001b[0m\u001b[0;34m.\u001b[0m\u001b[0msleep\u001b[0m\u001b[0;34m(\u001b[0m\u001b[0;36m.5\u001b[0m\u001b[0;34m)\u001b[0m\u001b[0;34m\u001b[0m\u001b[0m\n\u001b[0m",
      "\u001b[0;31mKeyboardInterrupt\u001b[0m: "
     ]
    }
   ],
   "source": [
    "#watch it in action\n",
    "\n",
    "for episode in range(10):\n",
    "    env.reset()\n",
    "    print(\"Episode: %d\"%episode)\n",
    "    \n",
    "    done = False\n",
    "    \n",
    "    for step in range(max_steps_per_episode):\n",
    "        clear_output(wait=True)\n",
    "        env.render()\n",
    "        state = learner.to_onehot(state)\n",
    "        action = max(learner.run_model(state))\n",
    "        action = int(action)\n",
    "\n",
    "        state,reward,done,info = env.step(action)\n",
    "        if(done):\n",
    "            break\n",
    "        time.sleep(.5)"
   ]
  },
  {
   "cell_type": "code",
   "execution_count": null,
   "metadata": {},
   "outputs": [],
   "source": []
  }
 ],
 "metadata": {
  "kernelspec": {
   "display_name": "Python 3",
   "language": "python",
   "name": "python3"
  },
  "language_info": {
   "codemirror_mode": {
    "name": "ipython",
    "version": 3
   },
   "file_extension": ".py",
   "mimetype": "text/x-python",
   "name": "python",
   "nbconvert_exporter": "python",
   "pygments_lexer": "ipython3",
   "version": "3.6.6"
  }
 },
 "nbformat": 4,
 "nbformat_minor": 2
}
