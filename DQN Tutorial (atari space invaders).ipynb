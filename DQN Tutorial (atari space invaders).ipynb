{
 "cells": [
  {
   "cell_type": "code",
   "execution_count": null,
   "metadata": {},
   "outputs": [],
   "source": [
    "import torch\n",
    "import torch.nn as nn\n",
    "import torch.nn.functional as F\n",
    "import torch.optim as optim\n",
    "import numpy as np\n",
    "\n",
    "class DeepQNetwork(nn.Module):\n",
    "    def __init__(self, learning_rate):\n",
    "        super(DeepQNetwork, self).__init__()\n",
    "        \n",
    "        self.conv1 = nn.Conv2d(1,32,8, stride=4,padding=1)\n",
    "        self.conv2 = nn.Conv2d(32,64,4, stride=2)\n",
    "        self.conv3 = nn.Conv2d(64, 128, 3)\n",
    "        \n",
    "        #19 is just trial and error\n",
    "        self.dense1 = nn.Linear(128*19*8, 512) \n",
    "        self.dense2 = nn.Linear(512,6) #6 actions (nothing is 1)\n",
    "        \n",
    "        self.optimizer = optim.RMSprop(self.parameters(),\n",
    "                                       lr=learning_rate)\n",
    "        self.loss = nn.MSELoss()\n",
    "        \n",
    "        #change device to gpu if possible\n",
    "        self.device = torch.device('cpu')\n",
    "        self.to(self.device)\n",
    "        \n",
    "    def forward(self, observation):\n",
    "        observation = T.Tensor(observation).to(self.device)\n",
    "        observation = observation.view(-1, 1, 185, 95)\n",
    "        observation = F.relu(self.conv1(observation))\n",
    "        observation = F.relu(self.conv2(observation))\n",
    "        observation = F.relu(self.conv3(observation))\n",
    "        #now flatten\n",
    "        observation = observation.view(-1,128*19*8)\n",
    "        #now the dense part \n",
    "        observation = F.relu(self.dense1(observation))\n",
    "        actions = F.relu(self.dense2(observation))\n",
    "        \n",
    "        return actions"
   ]
  },
  {
   "cell_type": "code",
   "execution_count": null,
   "metadata": {},
   "outputs": [],
   "source": [
    "class Agent(object):\n",
    "    def __init__(self,discount,random_move_frequency,\n",
    "                 learning_rate,max_memory_size,\n",
    "                 min_random_ove=.05,\n",
    "                 target_network_udate_frequency=10000, \n",
    "                 action_space=[0,1,2,3,4,5]):\n",
    "        self.discount = discount\n",
    "        self.random_move_frequency = "
   ]
  }
 ],
 "metadata": {
  "kernelspec": {
   "display_name": "Python 3",
   "language": "python",
   "name": "python3"
  },
  "language_info": {
   "codemirror_mode": {
    "name": "ipython",
    "version": 3
   },
   "file_extension": ".py",
   "mimetype": "text/x-python",
   "name": "python",
   "nbconvert_exporter": "python",
   "pygments_lexer": "ipython3",
   "version": "3.6.6"
  }
 },
 "nbformat": 4,
 "nbformat_minor": 2
}
